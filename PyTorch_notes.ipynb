{
 "cells": [
  {
   "cell_type": "markdown",
   "metadata": {},
   "source": [
    "# PyTorch notebook: The nitty-gritty\n",
    "\n",
    "I hope to one day make this into a lovely notebook that gets into the nitty-gritty of Pytorch"
   ]
  },
  {
   "cell_type": "code",
   "execution_count": 2,
   "metadata": {},
   "outputs": [],
   "source": [
    "import torch\n",
    "import torch.nn as nn"
   ]
  },
  {
   "cell_type": "markdown",
   "metadata": {},
   "source": [
    "### Layers"
   ]
  },
  {
   "cell_type": "markdown",
   "metadata": {},
   "source": [
    "**Linear Layers**\n",
    "\n",
    "* `nn.Linear(input_features, output_features)` performs the transformation:\n",
    "    - $Y = X W^{T} + b $, where:\n",
    "    - $Y$ is (batch_size, output_features), here output_features > 1, if we are trying to predict >1 outcome.\n",
    "    - $X$ is (batch_size, input features)\n",
    "    - $W^{T}$ is (input_features, output_features)\n",
    "* `nn.Linear(...)` returns $Y$.\n",
    "* When you return the weight matrix of `nn.Linear(...)` it's shape is (output_features, input_features)"
   ]
  },
  {
   "cell_type": "code",
   "execution_count": 13,
   "metadata": {},
   "outputs": [
    {
     "name": "stdout",
     "output_type": "stream",
     "text": [
      "X...\n",
      "tensor([[0.4225, 0.7761, 0.2352, 0.2483, 0.6939],\n",
      "        [0.1330, 0.7882, 0.9282, 0.3806, 0.3382],\n",
      "        [0.8689, 0.3895, 0.1511, 0.5371, 0.0823]])\n",
      "torch.Size([3, 5])\n",
      "\n",
      "Y...\n",
      "tensor([[-0.4052,  0.4220, -0.2172],\n",
      "        [-0.1551,  0.7601, -0.3398],\n",
      "        [-0.2747, -0.0779, -0.4220]], grad_fn=<AddmmBackward0>)\n",
      "torch.Size([3, 3])\n",
      "\n",
      "Linear Weight...\n",
      "Parameter containing:\n",
      "tensor([[-0.1004, -0.2112,  0.2376,  0.2016, -0.0908],\n",
      "        [-0.4288,  0.4420,  0.3763, -0.2624,  0.0492],\n",
      "        [-0.4021, -0.0935, -0.2856, -0.2747,  0.0100]], requires_grad=True)\n",
      "torch.Size([3, 5])\n"
     ]
    }
   ],
   "source": [
    "batch_size = 3\n",
    "in_features = 5\n",
    "out_features = 3\n",
    "\n",
    "linear = nn.Linear(in_features, out_features)\n",
    "\n",
    "X = torch.rand(batch_size, in_features)\n",
    "\n",
    "Y = linear(X)\n",
    "\n",
    "print(\"X...\")\n",
    "print(X)\n",
    "print(X.shape)\n",
    "print(\"\")\n",
    "\n",
    "print(\"Y...\")\n",
    "print(Y)\n",
    "print(Y.shape)\n",
    "print(\"\")\n",
    "\n",
    "print(\"Linear Weight...\")\n",
    "print(linear.weight)\n",
    "print(linear.weight.shape)"
   ]
  },
  {
   "cell_type": "markdown",
   "metadata": {},
   "source": [
    "**RNN layer**\n"
   ]
  },
  {
   "cell_type": "code",
   "execution_count": 25,
   "metadata": {},
   "outputs": [
    {
     "name": "stdout",
     "output_type": "stream",
     "text": [
      "X shape: torch.Size([5, 1, 3])\n",
      "Output shape: torch.Size([5, 1, 3])\n",
      "Hidden shape: torch.Size([1, 1, 3])\n",
      "hh outputs the hidden shape ONLY for the final time step\n",
      "tensor([[[-0.1781,  0.9003,  0.6967]]], grad_fn=<StackBackward0>)\n",
      "\n",
      "hh outputs the hidden shape for all time steps\n",
      "tensor([[[ 0.4643,  0.8609,  0.6027]],\n",
      "\n",
      "        [[-0.0283,  0.9431,  0.6206]],\n",
      "\n",
      "        [[-0.1864,  0.9239,  0.6808]],\n",
      "\n",
      "        [[-0.0794,  0.9508,  0.7809]],\n",
      "\n",
      "        [[-0.1781,  0.9003,  0.6967]]], grad_fn=<StackBackward0>)\n"
     ]
    }
   ],
   "source": [
    "input_size = 3\n",
    "seq_length = 5\n",
    "batch_size = 1\n",
    "\n",
    "rnn = nn.RNN(input_size=input_size, hidden_size=3)\n",
    "\n",
    "X = torch.rand(seq_length, batch_size, input_size)\n",
    "print(f\"X shape: {X.shape}\")\n",
    "\n",
    "out, hh = rnn(X)\n",
    "print(f\"Output shape: {out.shape}\")\n",
    "print(f\"Hidden shape: {hh.shape}\")\n",
    "print(\"hh outputs the hidden shape ONLY for the final time step\")\n",
    "print(hh)\n",
    "print(\"\")\n",
    "print(\"hh outputs the hidden shape for all time steps\")\n",
    "print(out)\n"
   ]
  }
 ],
 "metadata": {
  "kernelspec": {
   "display_name": "MLEconPS2",
   "language": "python",
   "name": "python3"
  },
  "language_info": {
   "codemirror_mode": {
    "name": "ipython",
    "version": 3
   },
   "file_extension": ".py",
   "mimetype": "text/x-python",
   "name": "python",
   "nbconvert_exporter": "python",
   "pygments_lexer": "ipython3",
   "version": "3.12.2"
  }
 },
 "nbformat": 4,
 "nbformat_minor": 2
}
